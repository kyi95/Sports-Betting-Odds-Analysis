{
  "nbformat": 4,
  "nbformat_minor": 0,
  "metadata": {
    "colab": {
      "name": "NCAA_Data_Odds_Analysis.ipynb",
      "provenance": [],
      "collapsed_sections": [],
      "toc_visible": true,
      "authorship_tag": "ABX9TyNJEQwHdTK9rHYB5SdprGsN",
      "include_colab_link": true
    },
    "kernelspec": {
      "name": "python3",
      "display_name": "Python 3"
    },
    "language_info": {
      "name": "python"
    }
  },
  "cells": [
    {
      "cell_type": "markdown",
      "metadata": {
        "id": "view-in-github",
        "colab_type": "text"
      },
      "source": [
        "<a href=\"https://colab.research.google.com/github/kyi95/Sports-Betting-Odds-Analysis/blob/main/NCAA_Data_Odds_Analysis.ipynb\" target=\"_parent\"><img src=\"https://colab.research.google.com/assets/colab-badge.svg\" alt=\"Open In Colab\"/></a>"
      ]
    },
    {
      "cell_type": "markdown",
      "source": [
        "#Objective\n"
      ],
      "metadata": {
        "id": "TjcCTVC93CDy"
      }
    },
    {
      "cell_type": "markdown",
      "source": [
        "The objective of this notebook is to do EDA on our small dataset of NCAA men's basketball odds between 2 betting websites, BetUS and BetOnline."
      ],
      "metadata": {
        "id": "55r1xL_T3HH1"
      }
    },
    {
      "cell_type": "code",
      "execution_count": 1,
      "metadata": {
        "id": "EA70nG-_2rOR"
      },
      "outputs": [],
      "source": [
        "#importing the libraries we need in order to analyze the data\n",
        "import numpy as np\n",
        "import pandas as pd\n",
        "import plotly.express as px\n",
        "\n",
        "# Pathlib to navigate file system\n",
        "from pathlib import Path"
      ]
    },
    {
      "cell_type": "code",
      "source": [
        "#Allows us to use data saved in our google drive\n",
        "from google.colab import drive\n",
        "drive.mount('/content/drive')"
      ],
      "metadata": {
        "colab": {
          "base_uri": "https://localhost:8080/"
        },
        "id": "YKw4HASy29YO",
        "outputId": "6355f810-0479-4b5b-bd34-2a4876d74292"
      },
      "execution_count": 2,
      "outputs": [
        {
          "output_type": "stream",
          "name": "stdout",
          "text": [
            "Mounted at /content/drive\n"
          ]
        }
      ]
    },
    {
      "cell_type": "code",
      "source": [
        "#Let's Load In the Data (If working different device, load local one drive path here)\n",
        "data_folder = Path('/content/drive/MyDrive/SideProjects/Data')\n",
        "\n",
        "file = data_folder / 'NCAA_Odds_Data.csv'"
      ],
      "metadata": {
        "id": "XUbfQLUi4HHr"
      },
      "execution_count": 3,
      "outputs": []
    },
    {
      "cell_type": "code",
      "source": [
        "odds_df = pd.read_csv(file)"
      ],
      "metadata": {
        "id": "wG0o0xTd4Smx"
      },
      "execution_count": 4,
      "outputs": []
    },
    {
      "cell_type": "code",
      "source": [
        "# Here we have named the dataframe odds and are looking at the head of it. \n",
        "odds_df.head()"
      ],
      "metadata": {
        "colab": {
          "base_uri": "https://localhost:8080/",
          "height": 175
        },
        "id": "5PJNnWEE4i_p",
        "outputId": "401315cf-13ec-45d0-b5e1-9362691c51d4"
      },
      "execution_count": 5,
      "outputs": [
        {
          "output_type": "execute_result",
          "data": {
            "text/plain": [
              "         TeamName  PointSpread  Vigor  MoneyLine  Total  OverUnderOdds  \\\n",
              "0  North Carolina          4.5   -115        180    152           -110   \n",
              "1          Kansas         -4.5   -105       -220    152           -110   \n",
              "2  North Carolina          4.0    100        190    152           -105   \n",
              "3          Kansas         -4.0   -120       -220    152           -115   \n",
              "\n",
              "  OverUnder    Website  \n",
              "0      Over      Betus  \n",
              "1     Under      Betus  \n",
              "2      Over  BetOnline  \n",
              "3     Under  BetOnline  "
            ],
            "text/html": [
              "\n",
              "  <div id=\"df-3e0059d9-1158-477b-b101-27b82261955a\">\n",
              "    <div class=\"colab-df-container\">\n",
              "      <div>\n",
              "<style scoped>\n",
              "    .dataframe tbody tr th:only-of-type {\n",
              "        vertical-align: middle;\n",
              "    }\n",
              "\n",
              "    .dataframe tbody tr th {\n",
              "        vertical-align: top;\n",
              "    }\n",
              "\n",
              "    .dataframe thead th {\n",
              "        text-align: right;\n",
              "    }\n",
              "</style>\n",
              "<table border=\"1\" class=\"dataframe\">\n",
              "  <thead>\n",
              "    <tr style=\"text-align: right;\">\n",
              "      <th></th>\n",
              "      <th>TeamName</th>\n",
              "      <th>PointSpread</th>\n",
              "      <th>Vigor</th>\n",
              "      <th>MoneyLine</th>\n",
              "      <th>Total</th>\n",
              "      <th>OverUnderOdds</th>\n",
              "      <th>OverUnder</th>\n",
              "      <th>Website</th>\n",
              "    </tr>\n",
              "  </thead>\n",
              "  <tbody>\n",
              "    <tr>\n",
              "      <th>0</th>\n",
              "      <td>North Carolina</td>\n",
              "      <td>4.5</td>\n",
              "      <td>-115</td>\n",
              "      <td>180</td>\n",
              "      <td>152</td>\n",
              "      <td>-110</td>\n",
              "      <td>Over</td>\n",
              "      <td>Betus</td>\n",
              "    </tr>\n",
              "    <tr>\n",
              "      <th>1</th>\n",
              "      <td>Kansas</td>\n",
              "      <td>-4.5</td>\n",
              "      <td>-105</td>\n",
              "      <td>-220</td>\n",
              "      <td>152</td>\n",
              "      <td>-110</td>\n",
              "      <td>Under</td>\n",
              "      <td>Betus</td>\n",
              "    </tr>\n",
              "    <tr>\n",
              "      <th>2</th>\n",
              "      <td>North Carolina</td>\n",
              "      <td>4.0</td>\n",
              "      <td>100</td>\n",
              "      <td>190</td>\n",
              "      <td>152</td>\n",
              "      <td>-105</td>\n",
              "      <td>Over</td>\n",
              "      <td>BetOnline</td>\n",
              "    </tr>\n",
              "    <tr>\n",
              "      <th>3</th>\n",
              "      <td>Kansas</td>\n",
              "      <td>-4.0</td>\n",
              "      <td>-120</td>\n",
              "      <td>-220</td>\n",
              "      <td>152</td>\n",
              "      <td>-115</td>\n",
              "      <td>Under</td>\n",
              "      <td>BetOnline</td>\n",
              "    </tr>\n",
              "  </tbody>\n",
              "</table>\n",
              "</div>\n",
              "      <button class=\"colab-df-convert\" onclick=\"convertToInteractive('df-3e0059d9-1158-477b-b101-27b82261955a')\"\n",
              "              title=\"Convert this dataframe to an interactive table.\"\n",
              "              style=\"display:none;\">\n",
              "        \n",
              "  <svg xmlns=\"http://www.w3.org/2000/svg\" height=\"24px\"viewBox=\"0 0 24 24\"\n",
              "       width=\"24px\">\n",
              "    <path d=\"M0 0h24v24H0V0z\" fill=\"none\"/>\n",
              "    <path d=\"M18.56 5.44l.94 2.06.94-2.06 2.06-.94-2.06-.94-.94-2.06-.94 2.06-2.06.94zm-11 1L8.5 8.5l.94-2.06 2.06-.94-2.06-.94L8.5 2.5l-.94 2.06-2.06.94zm10 10l.94 2.06.94-2.06 2.06-.94-2.06-.94-.94-2.06-.94 2.06-2.06.94z\"/><path d=\"M17.41 7.96l-1.37-1.37c-.4-.4-.92-.59-1.43-.59-.52 0-1.04.2-1.43.59L10.3 9.45l-7.72 7.72c-.78.78-.78 2.05 0 2.83L4 21.41c.39.39.9.59 1.41.59.51 0 1.02-.2 1.41-.59l7.78-7.78 2.81-2.81c.8-.78.8-2.07 0-2.86zM5.41 20L4 18.59l7.72-7.72 1.47 1.35L5.41 20z\"/>\n",
              "  </svg>\n",
              "      </button>\n",
              "      \n",
              "  <style>\n",
              "    .colab-df-container {\n",
              "      display:flex;\n",
              "      flex-wrap:wrap;\n",
              "      gap: 12px;\n",
              "    }\n",
              "\n",
              "    .colab-df-convert {\n",
              "      background-color: #E8F0FE;\n",
              "      border: none;\n",
              "      border-radius: 50%;\n",
              "      cursor: pointer;\n",
              "      display: none;\n",
              "      fill: #1967D2;\n",
              "      height: 32px;\n",
              "      padding: 0 0 0 0;\n",
              "      width: 32px;\n",
              "    }\n",
              "\n",
              "    .colab-df-convert:hover {\n",
              "      background-color: #E2EBFA;\n",
              "      box-shadow: 0px 1px 2px rgba(60, 64, 67, 0.3), 0px 1px 3px 1px rgba(60, 64, 67, 0.15);\n",
              "      fill: #174EA6;\n",
              "    }\n",
              "\n",
              "    [theme=dark] .colab-df-convert {\n",
              "      background-color: #3B4455;\n",
              "      fill: #D2E3FC;\n",
              "    }\n",
              "\n",
              "    [theme=dark] .colab-df-convert:hover {\n",
              "      background-color: #434B5C;\n",
              "      box-shadow: 0px 1px 3px 1px rgba(0, 0, 0, 0.15);\n",
              "      filter: drop-shadow(0px 1px 2px rgba(0, 0, 0, 0.3));\n",
              "      fill: #FFFFFF;\n",
              "    }\n",
              "  </style>\n",
              "\n",
              "      <script>\n",
              "        const buttonEl =\n",
              "          document.querySelector('#df-3e0059d9-1158-477b-b101-27b82261955a button.colab-df-convert');\n",
              "        buttonEl.style.display =\n",
              "          google.colab.kernel.accessAllowed ? 'block' : 'none';\n",
              "\n",
              "        async function convertToInteractive(key) {\n",
              "          const element = document.querySelector('#df-3e0059d9-1158-477b-b101-27b82261955a');\n",
              "          const dataTable =\n",
              "            await google.colab.kernel.invokeFunction('convertToInteractive',\n",
              "                                                     [key], {});\n",
              "          if (!dataTable) return;\n",
              "\n",
              "          const docLinkHtml = 'Like what you see? Visit the ' +\n",
              "            '<a target=\"_blank\" href=https://colab.research.google.com/notebooks/data_table.ipynb>data table notebook</a>'\n",
              "            + ' to learn more about interactive tables.';\n",
              "          element.innerHTML = '';\n",
              "          dataTable['output_type'] = 'display_data';\n",
              "          await google.colab.output.renderOutput(dataTable, element);\n",
              "          const docLink = document.createElement('div');\n",
              "          docLink.innerHTML = docLinkHtml;\n",
              "          element.appendChild(docLink);\n",
              "        }\n",
              "      </script>\n",
              "    </div>\n",
              "  </div>\n",
              "  "
            ]
          },
          "metadata": {},
          "execution_count": 5
        }
      ]
    },
    {
      "cell_type": "markdown",
      "source": [
        "#Variable Definitions\n",
        "* TeamName: The name of the team playing\n",
        "* PointSpread: The projected point difference between the two opponents in the matchup\n",
        "* Vigor: The odds of the pointspread\n",
        "* MoneyLine: The odds of the overall matchup, which team will win\n",
        "* Total: The projected total score amongst both teams\n",
        "* OverUnderOdds: The odds of the total score being over or under 152 points\n",
        "* Website: Which website the odds originated from"
      ],
      "metadata": {
        "id": "alHsJLGo3io3"
      }
    },
    {
      "cell_type": "markdown",
      "source": [
        "#Statistics of the odds"
      ],
      "metadata": {
        "id": "tqDyIqVf6F2J"
      }
    },
    {
      "cell_type": "code",
      "source": [
        "# Here we are creating a new column that concatenates the team name and the website that the odds originated from\n",
        "odds_df['Team_Site'] = odds_df['TeamName'] + ' ' + odds_df['Website']"
      ],
      "metadata": {
        "id": "PyD1jP_k7faC"
      },
      "execution_count": 6,
      "outputs": []
    },
    {
      "cell_type": "code",
      "source": [
        "odds_df.groupby('Team_Site')['PointSpread'].value_counts()"
      ],
      "metadata": {
        "colab": {
          "base_uri": "https://localhost:8080/"
        },
        "id": "guySJU_b50ub",
        "outputId": "b0f24dc2-8776-4e36-9796-6484120adeb0"
      },
      "execution_count": 7,
      "outputs": [
        {
          "output_type": "execute_result",
          "data": {
            "text/plain": [
              "Team_Site                 PointSpread\n",
              "Kansas BetOnline          -4.0           1\n",
              "Kansas Betus              -4.5           1\n",
              "North Carolina BetOnline   4.0           1\n",
              "North Carolina Betus       4.5           1\n",
              "Name: PointSpread, dtype: int64"
            ]
          },
          "metadata": {},
          "execution_count": 7
        }
      ]
    },
    {
      "cell_type": "markdown",
      "source": [
        "We can see from our counts of the point spread that Kansas is the clear favorite on both betting websites with point spreads of -4.5 and -4. Additionally, we can see that difference point spreads within each team is 0.5 for Kansas as well as 0.5 for UNC"
      ],
      "metadata": {
        "id": "Jpz2eUxB65_O"
      }
    },
    {
      "cell_type": "code",
      "source": [
        "odds_df.groupby('Team_Site')['Vigor'].value_counts()"
      ],
      "metadata": {
        "colab": {
          "base_uri": "https://localhost:8080/"
        },
        "id": "WoWScTnP65iS",
        "outputId": "be71f7e3-937d-4430-fe2e-cc8f967458d2"
      },
      "execution_count": 8,
      "outputs": [
        {
          "output_type": "execute_result",
          "data": {
            "text/plain": [
              "Team_Site                 Vigor\n",
              "Kansas BetOnline          -120     1\n",
              "Kansas Betus              -105     1\n",
              "North Carolina BetOnline   100     1\n",
              "North Carolina Betus      -115     1\n",
              "Name: Vigor, dtype: int64"
            ]
          },
          "metadata": {},
          "execution_count": 8
        }
      ]
    },
    {
      "cell_type": "markdown",
      "source": [
        "In looking at the vigor odds within the point spread, we can see that there are 4 different levels. On Betonline, Kansas has a much higher vigor than on Betus. This tells us that BetOnline believes Kansas will have more of a chance at beating the spread than on Betus because we would have to bet 120 to get 100 back on BetOnline versus 105 on Betus. The opposite is true for UNC. Betonline believes North carolina will match the point spread much more easily than Betus"
      ],
      "metadata": {
        "id": "pvt3VQmM8R7x"
      }
    },
    {
      "cell_type": "markdown",
      "source": [
        "## Point Spread Odds for BetOnline.\n",
        "* For Kansas on BetOnline, the bet is 120 to win 100 with a return of 220"
      ],
      "metadata": {
        "id": "f2iFSyM4-KX9"
      }
    },
    {
      "cell_type": "code",
      "source": [
        "# Now Let's Look at Implied probability of Vigor = Risk/Return for Betonline and Kansas\n",
        "kan_betonline_ip = (120/ (120+100))*100\n",
        "print(kan_betonline_ip)"
      ],
      "metadata": {
        "colab": {
          "base_uri": "https://localhost:8080/"
        },
        "id": "4U3Gl80S9iNi",
        "outputId": "b7c15ed1-aa49-455a-be7c-3f48199e2345"
      },
      "execution_count": 9,
      "outputs": [
        {
          "output_type": "stream",
          "name": "stdout",
          "text": [
            "54.54545454545454\n"
          ]
        }
      ]
    },
    {
      "cell_type": "markdown",
      "source": [
        "* For UNC on BetOnline, the bet is 100 to win 100 with a return of 200"
      ],
      "metadata": {
        "id": "-z-ImX-U-w-r"
      }
    },
    {
      "cell_type": "code",
      "source": [
        "# Now Let's Look at Implied probability of Vigor = Risk/Return for Betonline and UNC\n",
        "unc_betonline_ip = (100/ (100+100))*100\n",
        "print(unc_betonline_ip)"
      ],
      "metadata": {
        "colab": {
          "base_uri": "https://localhost:8080/"
        },
        "id": "Bnza5LmY-wOB",
        "outputId": "b8e18ec6-adb1-408c-8e07-14fba9558798"
      },
      "execution_count": 10,
      "outputs": [
        {
          "output_type": "stream",
          "name": "stdout",
          "text": [
            "50.0\n"
          ]
        }
      ]
    },
    {
      "cell_type": "code",
      "source": [
        "#Total Implied Probability for BetOnline\n",
        "total_ip_betonline = kan_betonline_ip+unc_betonline_ip\n",
        "print(total_ip_betonline)"
      ],
      "metadata": {
        "colab": {
          "base_uri": "https://localhost:8080/"
        },
        "id": "kvm2ycJOABjx",
        "outputId": "a90c63a3-764c-40c1-8d09-59332f9edcc2"
      },
      "execution_count": 11,
      "outputs": [
        {
          "output_type": "stream",
          "name": "stdout",
          "text": [
            "104.54545454545453\n"
          ]
        }
      ]
    },
    {
      "cell_type": "markdown",
      "source": [
        "* The bookmaker will expect to make out with 104.54 after paying out $100 so a 4.54% margin"
      ],
      "metadata": {
        "id": "pnzoAoK-AZJP"
      }
    },
    {
      "cell_type": "markdown",
      "source": [
        "## Point Spread Odds for BetUs"
      ],
      "metadata": {
        "id": "iR5ZYXM1_FW5"
      }
    },
    {
      "cell_type": "markdown",
      "source": [
        "* For Kansas on Betus, the bet is 105 to win 100 with a return of 205"
      ],
      "metadata": {
        "id": "y9EHdX5s_MIa"
      }
    },
    {
      "cell_type": "code",
      "source": [
        "# Now Let's Look at Implied probability of Vigor = Risk/Return for BetUs and Kansas\n",
        "kan_betus_ip = (105/(105+100))*100\n",
        "print(kan_betus_ip)"
      ],
      "metadata": {
        "colab": {
          "base_uri": "https://localhost:8080/"
        },
        "id": "wKwLJiMn_MaN",
        "outputId": "0f7bd526-bf4a-4eaa-877e-3edad9cfa199"
      },
      "execution_count": 12,
      "outputs": [
        {
          "output_type": "stream",
          "name": "stdout",
          "text": [
            "51.21951219512195\n"
          ]
        }
      ]
    },
    {
      "cell_type": "markdown",
      "source": [
        "* For UNC on BetUs, the bet is 115 to win 100 with a return of 215"
      ],
      "metadata": {
        "id": "0GSqSryL_MuH"
      }
    },
    {
      "cell_type": "code",
      "source": [
        "# Now Let's Look at Implied probability of Vigor = Risk/Return for BetUs and UNC\n",
        "unc_betus_ip = (115/ (115+100))*100\n",
        "print(unc_betus_ip)"
      ],
      "metadata": {
        "colab": {
          "base_uri": "https://localhost:8080/"
        },
        "id": "JnOpeW7n_M_0",
        "outputId": "3ea3c862-42ba-47ee-dffa-fbd2c8b07fd9"
      },
      "execution_count": 13,
      "outputs": [
        {
          "output_type": "stream",
          "name": "stdout",
          "text": [
            "53.48837209302325\n"
          ]
        }
      ]
    },
    {
      "cell_type": "code",
      "source": [
        "#Total Implied Probability for BetUs\n",
        "total_ip_betus = kan_betus_ip+unc_betus_ip\n",
        "print(total_ip_betus)"
      ],
      "metadata": {
        "colab": {
          "base_uri": "https://localhost:8080/"
        },
        "id": "rktB41hiAkOt",
        "outputId": "6a56e2b3-b15f-4d2d-91d0-3330752a0205"
      },
      "execution_count": 14,
      "outputs": [
        {
          "output_type": "stream",
          "name": "stdout",
          "text": [
            "104.70788428814521\n"
          ]
        }
      ]
    },
    {
      "cell_type": "markdown",
      "source": [
        "* The bookmaker will expect to make out with 104.70 after paying out $100 so a 4.70% margin"
      ],
      "metadata": {
        "id": "FmDpcR6sAy-H"
      }
    },
    {
      "cell_type": "markdown",
      "source": [
        "##Calculating Actual Covering Odds for BetOnline"
      ],
      "metadata": {
        "id": "sPSGEUKCCtZy"
      }
    },
    {
      "cell_type": "code",
      "source": [
        "#Actual odds of Kansas covering via BetOnline = Team Implied Prob/ Total Implied Probability\n",
        "actual_kansas_beton = kan_betonline_ip/total_ip_betonline\n",
        "print(actual_kansas_beton)"
      ],
      "metadata": {
        "colab": {
          "base_uri": "https://localhost:8080/"
        },
        "id": "6t7ZT3IPCswb",
        "outputId": "e47359ea-47b5-465d-e300-e246d473ffe2"
      },
      "execution_count": 15,
      "outputs": [
        {
          "output_type": "stream",
          "name": "stdout",
          "text": [
            "0.5217391304347826\n"
          ]
        }
      ]
    },
    {
      "cell_type": "code",
      "source": [
        "#Actual odds of UNC covering via BetOnline = Team Implied Prob/ Total Implied Probability\n",
        "actual_unc_beton = unc_betonline_ip/total_ip_betonline\n",
        "print(actual_unc_beton)"
      ],
      "metadata": {
        "colab": {
          "base_uri": "https://localhost:8080/"
        },
        "id": "8NsNwJ-3D0F0",
        "outputId": "c27c68a3-9d2e-421b-889c-5c99a996f925"
      },
      "execution_count": 16,
      "outputs": [
        {
          "output_type": "stream",
          "name": "stdout",
          "text": [
            "0.47826086956521746\n"
          ]
        }
      ]
    },
    {
      "cell_type": "markdown",
      "source": [
        "These values represent the actual odds of covering on Betonline before the vigor is added. Betonline odds show that Kansas has a 52.17% chance of beating the spread and UNC has a 47.82 percent chance of beating the spread. "
      ],
      "metadata": {
        "id": "uyEIu_4cECLJ"
      }
    },
    {
      "cell_type": "code",
      "source": [
        "actual_kansas_beton+actual_unc_beton\n",
        "# This value must equal 1 in order to validate our calculations"
      ],
      "metadata": {
        "colab": {
          "base_uri": "https://localhost:8080/"
        },
        "id": "1KLNccfGD7Vr",
        "outputId": "4c6cc294-86a3-4b68-e49b-1a9b52888b95"
      },
      "execution_count": 17,
      "outputs": [
        {
          "output_type": "execute_result",
          "data": {
            "text/plain": [
              "1.0"
            ]
          },
          "metadata": {},
          "execution_count": 17
        }
      ]
    },
    {
      "cell_type": "markdown",
      "source": [
        "##Calculating Actual Covering Odds for BetUs"
      ],
      "metadata": {
        "id": "16FsjGI3GO2-"
      }
    },
    {
      "cell_type": "code",
      "source": [
        "#Actual odds of Kansas covering via BetUs = Team Implied Prob/ Total Implied Probability\n",
        "actual_kansas_betus = kan_betus_ip/total_ip_betus\n",
        "print(actual_kansas_betus)"
      ],
      "metadata": {
        "colab": {
          "base_uri": "https://localhost:8080/"
        },
        "outputId": "f474cee7-1713-4b86-d78d-3571eafaa816",
        "id": "l9DnrPeSGO2-"
      },
      "execution_count": 18,
      "outputs": [
        {
          "output_type": "stream",
          "name": "stdout",
          "text": [
            "0.4891657638136511\n"
          ]
        }
      ]
    },
    {
      "cell_type": "code",
      "source": [
        "#Actual odds of UNC covering via BetUs = Team Implied Prob/ Total Implied Probability\n",
        "actual_unc_betus = unc_betus_ip/total_ip_betus\n",
        "print(actual_unc_betus)"
      ],
      "metadata": {
        "colab": {
          "base_uri": "https://localhost:8080/"
        },
        "outputId": "903ef2e3-45dc-4b79-9268-f85f5924b8ed",
        "id": "5mTLX_MaGO2_"
      },
      "execution_count": 19,
      "outputs": [
        {
          "output_type": "stream",
          "name": "stdout",
          "text": [
            "0.5108342361863488\n"
          ]
        }
      ]
    },
    {
      "cell_type": "markdown",
      "source": [
        "These values represent the actual odds of covering on BetUs before the vigor is added. BetUs odds show that Kansas has a 48.9% chance of beating the spread and UNC has a 51.08% chance of beating the spread. "
      ],
      "metadata": {
        "id": "l35vFIr-GO2_"
      }
    },
    {
      "cell_type": "code",
      "source": [
        "actual_kansas_betus+actual_unc_betus\n",
        "# This value must equal 1 in order to validate our calculations"
      ],
      "metadata": {
        "colab": {
          "base_uri": "https://localhost:8080/"
        },
        "outputId": "15fe1673-22f3-4ccb-9660-53e8ff386821",
        "id": "Nn3CkvekGO2_"
      },
      "execution_count": 20,
      "outputs": [
        {
          "output_type": "execute_result",
          "data": {
            "text/plain": [
              "1.0"
            ]
          },
          "metadata": {},
          "execution_count": 20
        }
      ]
    },
    {
      "cell_type": "markdown",
      "source": [
        "##Calculating Variance of Actual Covering Odds across Sites"
      ],
      "metadata": {
        "id": "fuvJKT4yaI18"
      }
    },
    {
      "cell_type": "code",
      "source": [
        "#Let's first calculate the difference in odds between the two sites for kansas\n",
        "kansas_point_spread_diff = abs(actual_kansas_beton -actual_kansas_betus)\n",
        "print(kansas_point_spread_diff)"
      ],
      "metadata": {
        "colab": {
          "base_uri": "https://localhost:8080/"
        },
        "id": "8Jr1LbF7bXfN",
        "outputId": "f77e52f9-b647-4c21-c278-91931a974c8e"
      },
      "execution_count": 59,
      "outputs": [
        {
          "output_type": "stream",
          "name": "stdout",
          "text": [
            "0.03257336662113147\n"
          ]
        }
      ]
    },
    {
      "cell_type": "markdown",
      "source": [
        "There is a 3.2% difference between the point spread odds of Kansas on the two sites"
      ],
      "metadata": {
        "id": "LRIcZHebbmRE"
      }
    },
    {
      "cell_type": "code",
      "source": [
        "from numpy.ma.core import var\n",
        "kansas_point_spread_var = var((actual_kansas_beton, actual_kansas_betus))\n",
        "print(kansas_point_spread_var)"
      ],
      "metadata": {
        "colab": {
          "base_uri": "https://localhost:8080/"
        },
        "id": "yBSGZh9zaNyk",
        "outputId": "2eaef6d0-5c3d-4ec0-f59f-4fc00a09d9e1"
      },
      "execution_count": 58,
      "outputs": [
        {
          "output_type": "stream",
          "name": "stdout",
          "text": [
            "0.00026525605325866046\n"
          ]
        }
      ]
    },
    {
      "cell_type": "code",
      "source": [
        "#Let's first calculate the difference in odds between the two sites for UNC\n",
        "unc_point_spread_diff = abs(actual_unc_beton -actual_unc_betus)\n",
        "print(unc_point_spread_diff)"
      ],
      "metadata": {
        "colab": {
          "base_uri": "https://localhost:8080/"
        },
        "id": "3m6aD5mcb3yf",
        "outputId": "0c1ff51d-7fd5-42f2-c212-925da5fe0bf5"
      },
      "execution_count": 60,
      "outputs": [
        {
          "output_type": "stream",
          "name": "stdout",
          "text": [
            "0.03257336662113136\n"
          ]
        }
      ]
    },
    {
      "cell_type": "markdown",
      "source": [
        "There is a 3.2% difference between the point spread odds of unc on the two sites"
      ],
      "metadata": {
        "id": "JYg-IFqTcqLn"
      }
    },
    {
      "cell_type": "code",
      "source": [
        "unc_point_spread_var = var((actual_unc_beton, actual_unc_betus))\n",
        "print(unc_point_spread_var)"
      ],
      "metadata": {
        "colab": {
          "base_uri": "https://localhost:8080/"
        },
        "id": "lq7rdtzccv28",
        "outputId": "5fd40e3c-6f3d-4249-ba47-227d4c71ca68"
      },
      "execution_count": 61,
      "outputs": [
        {
          "output_type": "stream",
          "name": "stdout",
          "text": [
            "0.00026525605325865867\n"
          ]
        }
      ]
    },
    {
      "cell_type": "markdown",
      "source": [
        "##Overall Findings within Point Spread"
      ],
      "metadata": {
        "id": "Zw9hE7fjMYXX"
      }
    },
    {
      "cell_type": "markdown",
      "source": [
        "When looking at the point spread criteria, we can see that the overall odds of beating the spread on Betonline is 52 to 48 in favor of Kansas and the overall odds of beating the spread on BetUs is 49 to 51 in favor of UNC. Here I would choose to bet on the spread with Kansas on Betonline as that gives us the highest probability of success. Additionally, the vigor margin is lower on BetOnline with 4.54 compared to 4.7. We also notice that the difference in point spread odds for the two sites is nearly identical for both teams. However, the variances differ"
      ],
      "metadata": {
        "id": "bDrcvJ8KMdEN"
      }
    },
    {
      "cell_type": "markdown",
      "source": [
        "##MoneyLine Odds for BetUs With Vigor"
      ],
      "metadata": {
        "id": "yKLll8PXId8b"
      }
    },
    {
      "cell_type": "code",
      "source": [
        "odds_df[['Team_Site','MoneyLine']]"
      ],
      "metadata": {
        "colab": {
          "base_uri": "https://localhost:8080/",
          "height": 175
        },
        "id": "K4n1uRIKIhqc",
        "outputId": "8fcc6654-f47e-4081-9d14-f962f84673ca"
      },
      "execution_count": 23,
      "outputs": [
        {
          "output_type": "execute_result",
          "data": {
            "text/plain": [
              "                  Team_Site  MoneyLine\n",
              "0      North Carolina Betus        180\n",
              "1              Kansas Betus       -220\n",
              "2  North Carolina BetOnline        190\n",
              "3          Kansas BetOnline       -220"
            ],
            "text/html": [
              "\n",
              "  <div id=\"df-749dc7d5-9355-41a1-8a1b-0479dbcbf155\">\n",
              "    <div class=\"colab-df-container\">\n",
              "      <div>\n",
              "<style scoped>\n",
              "    .dataframe tbody tr th:only-of-type {\n",
              "        vertical-align: middle;\n",
              "    }\n",
              "\n",
              "    .dataframe tbody tr th {\n",
              "        vertical-align: top;\n",
              "    }\n",
              "\n",
              "    .dataframe thead th {\n",
              "        text-align: right;\n",
              "    }\n",
              "</style>\n",
              "<table border=\"1\" class=\"dataframe\">\n",
              "  <thead>\n",
              "    <tr style=\"text-align: right;\">\n",
              "      <th></th>\n",
              "      <th>Team_Site</th>\n",
              "      <th>MoneyLine</th>\n",
              "    </tr>\n",
              "  </thead>\n",
              "  <tbody>\n",
              "    <tr>\n",
              "      <th>0</th>\n",
              "      <td>North Carolina Betus</td>\n",
              "      <td>180</td>\n",
              "    </tr>\n",
              "    <tr>\n",
              "      <th>1</th>\n",
              "      <td>Kansas Betus</td>\n",
              "      <td>-220</td>\n",
              "    </tr>\n",
              "    <tr>\n",
              "      <th>2</th>\n",
              "      <td>North Carolina BetOnline</td>\n",
              "      <td>190</td>\n",
              "    </tr>\n",
              "    <tr>\n",
              "      <th>3</th>\n",
              "      <td>Kansas BetOnline</td>\n",
              "      <td>-220</td>\n",
              "    </tr>\n",
              "  </tbody>\n",
              "</table>\n",
              "</div>\n",
              "      <button class=\"colab-df-convert\" onclick=\"convertToInteractive('df-749dc7d5-9355-41a1-8a1b-0479dbcbf155')\"\n",
              "              title=\"Convert this dataframe to an interactive table.\"\n",
              "              style=\"display:none;\">\n",
              "        \n",
              "  <svg xmlns=\"http://www.w3.org/2000/svg\" height=\"24px\"viewBox=\"0 0 24 24\"\n",
              "       width=\"24px\">\n",
              "    <path d=\"M0 0h24v24H0V0z\" fill=\"none\"/>\n",
              "    <path d=\"M18.56 5.44l.94 2.06.94-2.06 2.06-.94-2.06-.94-.94-2.06-.94 2.06-2.06.94zm-11 1L8.5 8.5l.94-2.06 2.06-.94-2.06-.94L8.5 2.5l-.94 2.06-2.06.94zm10 10l.94 2.06.94-2.06 2.06-.94-2.06-.94-.94-2.06-.94 2.06-2.06.94z\"/><path d=\"M17.41 7.96l-1.37-1.37c-.4-.4-.92-.59-1.43-.59-.52 0-1.04.2-1.43.59L10.3 9.45l-7.72 7.72c-.78.78-.78 2.05 0 2.83L4 21.41c.39.39.9.59 1.41.59.51 0 1.02-.2 1.41-.59l7.78-7.78 2.81-2.81c.8-.78.8-2.07 0-2.86zM5.41 20L4 18.59l7.72-7.72 1.47 1.35L5.41 20z\"/>\n",
              "  </svg>\n",
              "      </button>\n",
              "      \n",
              "  <style>\n",
              "    .colab-df-container {\n",
              "      display:flex;\n",
              "      flex-wrap:wrap;\n",
              "      gap: 12px;\n",
              "    }\n",
              "\n",
              "    .colab-df-convert {\n",
              "      background-color: #E8F0FE;\n",
              "      border: none;\n",
              "      border-radius: 50%;\n",
              "      cursor: pointer;\n",
              "      display: none;\n",
              "      fill: #1967D2;\n",
              "      height: 32px;\n",
              "      padding: 0 0 0 0;\n",
              "      width: 32px;\n",
              "    }\n",
              "\n",
              "    .colab-df-convert:hover {\n",
              "      background-color: #E2EBFA;\n",
              "      box-shadow: 0px 1px 2px rgba(60, 64, 67, 0.3), 0px 1px 3px 1px rgba(60, 64, 67, 0.15);\n",
              "      fill: #174EA6;\n",
              "    }\n",
              "\n",
              "    [theme=dark] .colab-df-convert {\n",
              "      background-color: #3B4455;\n",
              "      fill: #D2E3FC;\n",
              "    }\n",
              "\n",
              "    [theme=dark] .colab-df-convert:hover {\n",
              "      background-color: #434B5C;\n",
              "      box-shadow: 0px 1px 3px 1px rgba(0, 0, 0, 0.15);\n",
              "      filter: drop-shadow(0px 1px 2px rgba(0, 0, 0, 0.3));\n",
              "      fill: #FFFFFF;\n",
              "    }\n",
              "  </style>\n",
              "\n",
              "      <script>\n",
              "        const buttonEl =\n",
              "          document.querySelector('#df-749dc7d5-9355-41a1-8a1b-0479dbcbf155 button.colab-df-convert');\n",
              "        buttonEl.style.display =\n",
              "          google.colab.kernel.accessAllowed ? 'block' : 'none';\n",
              "\n",
              "        async function convertToInteractive(key) {\n",
              "          const element = document.querySelector('#df-749dc7d5-9355-41a1-8a1b-0479dbcbf155');\n",
              "          const dataTable =\n",
              "            await google.colab.kernel.invokeFunction('convertToInteractive',\n",
              "                                                     [key], {});\n",
              "          if (!dataTable) return;\n",
              "\n",
              "          const docLinkHtml = 'Like what you see? Visit the ' +\n",
              "            '<a target=\"_blank\" href=https://colab.research.google.com/notebooks/data_table.ipynb>data table notebook</a>'\n",
              "            + ' to learn more about interactive tables.';\n",
              "          element.innerHTML = '';\n",
              "          dataTable['output_type'] = 'display_data';\n",
              "          await google.colab.output.renderOutput(dataTable, element);\n",
              "          const docLink = document.createElement('div');\n",
              "          docLink.innerHTML = docLinkHtml;\n",
              "          element.appendChild(docLink);\n",
              "        }\n",
              "      </script>\n",
              "    </div>\n",
              "  </div>\n",
              "  "
            ]
          },
          "metadata": {},
          "execution_count": 23
        }
      ]
    },
    {
      "cell_type": "markdown",
      "source": [
        "On BetUs, UNC's moneyline is +180 which means that if you bet 100, the payout is 180, so the total return is 280"
      ],
      "metadata": {
        "id": "LCrIwaFGKeOg"
      }
    },
    {
      "cell_type": "code",
      "source": [
        "# Now Let's Look at Implied probability of MoneyLine = Risk/Return for BetUs and UNC\n",
        "unc_betus_ip_ml = (100/(100+180))*100\n",
        "print(unc_betus_ip_ml)"
      ],
      "metadata": {
        "colab": {
          "base_uri": "https://localhost:8080/"
        },
        "id": "te9gGy0SIhe3",
        "outputId": "1e134839-bd28-49e7-beeb-5899b3b55576"
      },
      "execution_count": 24,
      "outputs": [
        {
          "output_type": "stream",
          "name": "stdout",
          "text": [
            "35.714285714285715\n"
          ]
        }
      ]
    },
    {
      "cell_type": "markdown",
      "source": [
        "On Betus, Kansas' moneyline is -220 which means that if need to bet 220 in order to get 100. so the total return is 320"
      ],
      "metadata": {
        "id": "8pm2Ee4UKrEw"
      }
    },
    {
      "cell_type": "code",
      "source": [
        "# Now Let's Look at Implied probability of MoneyLine = Risk/Return for BetUs and Kansas\n",
        "kansas_betus_ip_ml = (220/(100+220))*100\n",
        "print(kansas_betus_ip_ml)"
      ],
      "metadata": {
        "colab": {
          "base_uri": "https://localhost:8080/"
        },
        "id": "BBwAHrHeK-DR",
        "outputId": "6d9be2f3-a8e1-4549-848b-36079491eced"
      },
      "execution_count": 25,
      "outputs": [
        {
          "output_type": "stream",
          "name": "stdout",
          "text": [
            "68.75\n"
          ]
        }
      ]
    },
    {
      "cell_type": "code",
      "source": [
        "total_ip_betus_ml = unc_betus_ip_ml + kansas_betus_ip_ml\n",
        "print(total_ip_betus_ml)"
      ],
      "metadata": {
        "colab": {
          "base_uri": "https://localhost:8080/"
        },
        "id": "hxPJyxCOLSOI",
        "outputId": "fa415d69-0561-4f22-a1fb-dda3b991ed40"
      },
      "execution_count": 26,
      "outputs": [
        {
          "output_type": "stream",
          "name": "stdout",
          "text": [
            "104.46428571428572\n"
          ]
        }
      ]
    },
    {
      "cell_type": "markdown",
      "source": [
        "On BetUs, the total implied probability is 104.46 which means that the margin of payout for the bookkeepr is 4.46%"
      ],
      "metadata": {
        "id": "G-tTEC1JLcmu"
      }
    },
    {
      "cell_type": "markdown",
      "source": [
        "##MoneyLine odds for BetOnline With Vigor"
      ],
      "metadata": {
        "id": "FkyoR3h4L0Sv"
      }
    },
    {
      "cell_type": "code",
      "source": [
        "odds_df[['Team_Site','MoneyLine']]"
      ],
      "metadata": {
        "colab": {
          "base_uri": "https://localhost:8080/",
          "height": 175
        },
        "id": "VEISB53_MHc8",
        "outputId": "730cb172-4cf9-43f9-d7c5-4fca4ccb0fee"
      },
      "execution_count": 27,
      "outputs": [
        {
          "output_type": "execute_result",
          "data": {
            "text/plain": [
              "                  Team_Site  MoneyLine\n",
              "0      North Carolina Betus        180\n",
              "1              Kansas Betus       -220\n",
              "2  North Carolina BetOnline        190\n",
              "3          Kansas BetOnline       -220"
            ],
            "text/html": [
              "\n",
              "  <div id=\"df-0131dd7e-c741-4b62-b8a0-ead0f961bd01\">\n",
              "    <div class=\"colab-df-container\">\n",
              "      <div>\n",
              "<style scoped>\n",
              "    .dataframe tbody tr th:only-of-type {\n",
              "        vertical-align: middle;\n",
              "    }\n",
              "\n",
              "    .dataframe tbody tr th {\n",
              "        vertical-align: top;\n",
              "    }\n",
              "\n",
              "    .dataframe thead th {\n",
              "        text-align: right;\n",
              "    }\n",
              "</style>\n",
              "<table border=\"1\" class=\"dataframe\">\n",
              "  <thead>\n",
              "    <tr style=\"text-align: right;\">\n",
              "      <th></th>\n",
              "      <th>Team_Site</th>\n",
              "      <th>MoneyLine</th>\n",
              "    </tr>\n",
              "  </thead>\n",
              "  <tbody>\n",
              "    <tr>\n",
              "      <th>0</th>\n",
              "      <td>North Carolina Betus</td>\n",
              "      <td>180</td>\n",
              "    </tr>\n",
              "    <tr>\n",
              "      <th>1</th>\n",
              "      <td>Kansas Betus</td>\n",
              "      <td>-220</td>\n",
              "    </tr>\n",
              "    <tr>\n",
              "      <th>2</th>\n",
              "      <td>North Carolina BetOnline</td>\n",
              "      <td>190</td>\n",
              "    </tr>\n",
              "    <tr>\n",
              "      <th>3</th>\n",
              "      <td>Kansas BetOnline</td>\n",
              "      <td>-220</td>\n",
              "    </tr>\n",
              "  </tbody>\n",
              "</table>\n",
              "</div>\n",
              "      <button class=\"colab-df-convert\" onclick=\"convertToInteractive('df-0131dd7e-c741-4b62-b8a0-ead0f961bd01')\"\n",
              "              title=\"Convert this dataframe to an interactive table.\"\n",
              "              style=\"display:none;\">\n",
              "        \n",
              "  <svg xmlns=\"http://www.w3.org/2000/svg\" height=\"24px\"viewBox=\"0 0 24 24\"\n",
              "       width=\"24px\">\n",
              "    <path d=\"M0 0h24v24H0V0z\" fill=\"none\"/>\n",
              "    <path d=\"M18.56 5.44l.94 2.06.94-2.06 2.06-.94-2.06-.94-.94-2.06-.94 2.06-2.06.94zm-11 1L8.5 8.5l.94-2.06 2.06-.94-2.06-.94L8.5 2.5l-.94 2.06-2.06.94zm10 10l.94 2.06.94-2.06 2.06-.94-2.06-.94-.94-2.06-.94 2.06-2.06.94z\"/><path d=\"M17.41 7.96l-1.37-1.37c-.4-.4-.92-.59-1.43-.59-.52 0-1.04.2-1.43.59L10.3 9.45l-7.72 7.72c-.78.78-.78 2.05 0 2.83L4 21.41c.39.39.9.59 1.41.59.51 0 1.02-.2 1.41-.59l7.78-7.78 2.81-2.81c.8-.78.8-2.07 0-2.86zM5.41 20L4 18.59l7.72-7.72 1.47 1.35L5.41 20z\"/>\n",
              "  </svg>\n",
              "      </button>\n",
              "      \n",
              "  <style>\n",
              "    .colab-df-container {\n",
              "      display:flex;\n",
              "      flex-wrap:wrap;\n",
              "      gap: 12px;\n",
              "    }\n",
              "\n",
              "    .colab-df-convert {\n",
              "      background-color: #E8F0FE;\n",
              "      border: none;\n",
              "      border-radius: 50%;\n",
              "      cursor: pointer;\n",
              "      display: none;\n",
              "      fill: #1967D2;\n",
              "      height: 32px;\n",
              "      padding: 0 0 0 0;\n",
              "      width: 32px;\n",
              "    }\n",
              "\n",
              "    .colab-df-convert:hover {\n",
              "      background-color: #E2EBFA;\n",
              "      box-shadow: 0px 1px 2px rgba(60, 64, 67, 0.3), 0px 1px 3px 1px rgba(60, 64, 67, 0.15);\n",
              "      fill: #174EA6;\n",
              "    }\n",
              "\n",
              "    [theme=dark] .colab-df-convert {\n",
              "      background-color: #3B4455;\n",
              "      fill: #D2E3FC;\n",
              "    }\n",
              "\n",
              "    [theme=dark] .colab-df-convert:hover {\n",
              "      background-color: #434B5C;\n",
              "      box-shadow: 0px 1px 3px 1px rgba(0, 0, 0, 0.15);\n",
              "      filter: drop-shadow(0px 1px 2px rgba(0, 0, 0, 0.3));\n",
              "      fill: #FFFFFF;\n",
              "    }\n",
              "  </style>\n",
              "\n",
              "      <script>\n",
              "        const buttonEl =\n",
              "          document.querySelector('#df-0131dd7e-c741-4b62-b8a0-ead0f961bd01 button.colab-df-convert');\n",
              "        buttonEl.style.display =\n",
              "          google.colab.kernel.accessAllowed ? 'block' : 'none';\n",
              "\n",
              "        async function convertToInteractive(key) {\n",
              "          const element = document.querySelector('#df-0131dd7e-c741-4b62-b8a0-ead0f961bd01');\n",
              "          const dataTable =\n",
              "            await google.colab.kernel.invokeFunction('convertToInteractive',\n",
              "                                                     [key], {});\n",
              "          if (!dataTable) return;\n",
              "\n",
              "          const docLinkHtml = 'Like what you see? Visit the ' +\n",
              "            '<a target=\"_blank\" href=https://colab.research.google.com/notebooks/data_table.ipynb>data table notebook</a>'\n",
              "            + ' to learn more about interactive tables.';\n",
              "          element.innerHTML = '';\n",
              "          dataTable['output_type'] = 'display_data';\n",
              "          await google.colab.output.renderOutput(dataTable, element);\n",
              "          const docLink = document.createElement('div');\n",
              "          docLink.innerHTML = docLinkHtml;\n",
              "          element.appendChild(docLink);\n",
              "        }\n",
              "      </script>\n",
              "    </div>\n",
              "  </div>\n",
              "  "
            ]
          },
          "metadata": {},
          "execution_count": 27
        }
      ]
    },
    {
      "cell_type": "markdown",
      "source": [
        "On BetOnline, UNC's moneyline is +190 which means that if you bet 100, the payout is 190, so the total return is 290"
      ],
      "metadata": {
        "id": "JLrvmje1MCvk"
      }
    },
    {
      "cell_type": "code",
      "source": [
        "# Now Let's Look at Implied probability of MoneyLine = Risk/Return for BetOnline and UNC\n",
        "unc_beton_ip_ml = (100/(190+100))*100\n",
        "print(unc_beton_ip_ml)"
      ],
      "metadata": {
        "colab": {
          "base_uri": "https://localhost:8080/"
        },
        "outputId": "55d62906-e098-4446-c0a9-a60eae99fcc5",
        "id": "XpgWuSfMMCvk"
      },
      "execution_count": 28,
      "outputs": [
        {
          "output_type": "stream",
          "name": "stdout",
          "text": [
            "34.48275862068966\n"
          ]
        }
      ]
    },
    {
      "cell_type": "markdown",
      "source": [
        "On BetOnline, Kansas' moneyline is -220 which means that if need to bet 220 in order to get 100. so the total return is 320"
      ],
      "metadata": {
        "id": "47cfEfWjMCvk"
      }
    },
    {
      "cell_type": "code",
      "source": [
        "# Now Let's Look at Implied probability of MoneyLine = Risk/Return for BetOnline and Kansas\n",
        "kansas_beton_ip_ml = (220/(100+220))*100\n",
        "print(kansas_beton_ip_ml)"
      ],
      "metadata": {
        "colab": {
          "base_uri": "https://localhost:8080/"
        },
        "outputId": "c50024e3-1e26-4f55-e3f9-31b213bd301b",
        "id": "n3pvCAb8MCvk"
      },
      "execution_count": 29,
      "outputs": [
        {
          "output_type": "stream",
          "name": "stdout",
          "text": [
            "68.75\n"
          ]
        }
      ]
    },
    {
      "cell_type": "code",
      "source": [
        "total_ip_beton_ml = unc_beton_ip_ml + kansas_beton_ip_ml\n",
        "print(total_ip_beton_ml)"
      ],
      "metadata": {
        "colab": {
          "base_uri": "https://localhost:8080/"
        },
        "outputId": "e4069277-96b9-4a47-bd7a-24b9df393913",
        "id": "u0GndaINMCvl"
      },
      "execution_count": 30,
      "outputs": [
        {
          "output_type": "stream",
          "name": "stdout",
          "text": [
            "103.23275862068965\n"
          ]
        }
      ]
    },
    {
      "cell_type": "markdown",
      "source": [
        "On BetUs, the total implied probability is 103.23 which means that the margin of payout for the bookkeeper is 3.23%"
      ],
      "metadata": {
        "id": "tjKQ-SqFMCvl"
      }
    },
    {
      "cell_type": "markdown",
      "source": [
        "##Actual Moneyline Odds without vigor on Betus"
      ],
      "metadata": {
        "id": "TRVtGWwCOYLm"
      }
    },
    {
      "cell_type": "markdown",
      "source": [
        ""
      ],
      "metadata": {
        "id": "XH2UhFRzOYAf"
      }
    },
    {
      "cell_type": "code",
      "source": [
        "#Actual odds of UNC winning via BetUs = Team Implied Prob/ Total Implied Probability\n",
        "actual_unc_betus_ml = unc_betus_ip_ml/total_ip_betus_ml\n",
        "print(actual_unc_betus_ml)"
      ],
      "metadata": {
        "colab": {
          "base_uri": "https://localhost:8080/"
        },
        "id": "H1ATVe8GO1TL",
        "outputId": "b5594f17-4dc9-41f2-bc95-3cbd0ea56a70"
      },
      "execution_count": 36,
      "outputs": [
        {
          "output_type": "stream",
          "name": "stdout",
          "text": [
            "0.3418803418803419\n"
          ]
        }
      ]
    },
    {
      "cell_type": "code",
      "source": [
        "#Actual odds of Kansas wining via BetUs = Team Implied Prob/ Total Implied Probability\n",
        "actual_kansas_betus_ml = kansas_betus_ip_ml/total_ip_betus_ml\n",
        "print(actual_kansas_betus_ml)"
      ],
      "metadata": {
        "colab": {
          "base_uri": "https://localhost:8080/"
        },
        "id": "E6c7H9HsOUaR",
        "outputId": "47e3fc20-2b93-42fc-db71-4dacb865e4df"
      },
      "execution_count": 37,
      "outputs": [
        {
          "output_type": "stream",
          "name": "stdout",
          "text": [
            "0.6581196581196581\n"
          ]
        }
      ]
    },
    {
      "cell_type": "code",
      "source": [
        "actual_unc_betus_ml+actual_kansas_betus_ml\n",
        "#Validation"
      ],
      "metadata": {
        "colab": {
          "base_uri": "https://localhost:8080/"
        },
        "id": "A-cNegOoPRTw",
        "outputId": "7f3e0f95-1087-4a5f-d25a-77ad96e77763"
      },
      "execution_count": 38,
      "outputs": [
        {
          "output_type": "execute_result",
          "data": {
            "text/plain": [
              "1.0"
            ]
          },
          "metadata": {},
          "execution_count": 38
        }
      ]
    },
    {
      "cell_type": "markdown",
      "source": [
        "On the Betus site, the odds for unc winning the match are 34% against 66% for kansas"
      ],
      "metadata": {
        "id": "MB6z6y-yPVTl"
      }
    },
    {
      "cell_type": "markdown",
      "source": [
        "##Actual Moneyline Odds without vigor on BetOnline"
      ],
      "metadata": {
        "id": "QL0wRBeJPinT"
      }
    },
    {
      "cell_type": "code",
      "source": [
        "#Actual odds of UNC winning via BetOnline = Team Implied Prob/ Total Implied Probability\n",
        "actual_unc_beton_ml = unc_beton_ip_ml/total_ip_beton_ml\n",
        "print(actual_unc_beton_ml)"
      ],
      "metadata": {
        "colab": {
          "base_uri": "https://localhost:8080/"
        },
        "id": "hXnweiFTPfgb",
        "outputId": "a3175cf2-2b28-4633-e997-2515f7871813"
      },
      "execution_count": 34,
      "outputs": [
        {
          "output_type": "stream",
          "name": "stdout",
          "text": [
            "0.3340292275574113\n"
          ]
        }
      ]
    },
    {
      "cell_type": "code",
      "source": [
        "#Actual odds of Kansas wining via BetOnline = Team Implied Prob/ Total Implied Probability\n",
        "actual_kansas_beton_ml = kansas_beton_ip_ml/total_ip_beton_ml\n",
        "print(actual_kansas_beton_ml)"
      ],
      "metadata": {
        "colab": {
          "base_uri": "https://localhost:8080/"
        },
        "id": "BpdfF4MFPtQF",
        "outputId": "6d40667a-5c9b-495c-cb16-a92b6d892de0"
      },
      "execution_count": 35,
      "outputs": [
        {
          "output_type": "stream",
          "name": "stdout",
          "text": [
            "0.6659707724425887\n"
          ]
        }
      ]
    },
    {
      "cell_type": "code",
      "source": [
        "actual_unc_beton_ml + actual_kansas_beton_ml\n",
        "#Validation"
      ],
      "metadata": {
        "colab": {
          "base_uri": "https://localhost:8080/"
        },
        "id": "mHpWL3uzQB4V",
        "outputId": "7493ae8a-98b0-41b1-cc38-7c2b5ea8d305"
      },
      "execution_count": 39,
      "outputs": [
        {
          "output_type": "execute_result",
          "data": {
            "text/plain": [
              "1.0"
            ]
          },
          "metadata": {},
          "execution_count": 39
        }
      ]
    },
    {
      "cell_type": "markdown",
      "source": [
        "On BetOnline, the odds for unc winning the match are 33 against 67 for kansas"
      ],
      "metadata": {
        "id": "ZUniGqGgQVnV"
      }
    },
    {
      "cell_type": "markdown",
      "source": [
        "##Calculating Variance of Actual MoneyLine Odds across Sites"
      ],
      "metadata": {
        "id": "dWrluu5LdMUe"
      }
    },
    {
      "cell_type": "code",
      "source": [
        "#Let's first calculate the difference in odds between the two sites for kansas\n",
        "kansas_ml_diff = abs(actual_kansas_betus_ml -actual_kansas_beton_ml)\n",
        "print(kansas_ml_diff)"
      ],
      "metadata": {
        "colab": {
          "base_uri": "https://localhost:8080/"
        },
        "outputId": "1bf34e02-e91b-47af-bb4d-e46e5797335a",
        "id": "a3OLAKc2dMUf"
      },
      "execution_count": 62,
      "outputs": [
        {
          "output_type": "stream",
          "name": "stdout",
          "text": [
            "0.007851114322930619\n"
          ]
        }
      ]
    },
    {
      "cell_type": "markdown",
      "source": [
        "There is a 0.7% difference between the money line odds of Kansas on the two sites"
      ],
      "metadata": {
        "id": "yTDW6nxndMUf"
      }
    },
    {
      "cell_type": "code",
      "source": [
        "from numpy.ma.core import var\n",
        "kansas_ml_var = var((actual_kansas_betus_ml, actual_kansas_beton_ml))\n",
        "print(kansas_ml_var)"
      ],
      "metadata": {
        "colab": {
          "base_uri": "https://localhost:8080/"
        },
        "outputId": "3c80eac6-0373-4e22-aba5-2ce166000bce",
        "id": "yZQWNFzSdMUf"
      },
      "execution_count": 65,
      "outputs": [
        {
          "output_type": "stream",
          "name": "stdout",
          "text": [
            "1.5409999027931576e-05\n"
          ]
        }
      ]
    },
    {
      "cell_type": "code",
      "source": [
        "#Let's first calculate the difference in odds between the two sites for UNC\n",
        "unc_ml_diff = abs(actual_unc_betus_ml -actual_unc_beton_ml)\n",
        "print(unc_ml_diff)"
      ],
      "metadata": {
        "colab": {
          "base_uri": "https://localhost:8080/"
        },
        "outputId": "2e2559d3-359e-45c3-c2e4-569042651deb",
        "id": "qlBguiK6dMUf"
      },
      "execution_count": 66,
      "outputs": [
        {
          "output_type": "stream",
          "name": "stdout",
          "text": [
            "0.007851114322930564\n"
          ]
        }
      ]
    },
    {
      "cell_type": "markdown",
      "source": [
        "There is a 0.7% difference between the Moneyline odds of unc on the two sites"
      ],
      "metadata": {
        "id": "PQ9cPPmpdMUf"
      }
    },
    {
      "cell_type": "code",
      "source": [
        "unc_ml_var = var((actual_unc_betus_ml, actual_unc_beton_ml))\n",
        "print(unc_ml_var)"
      ],
      "metadata": {
        "colab": {
          "base_uri": "https://localhost:8080/"
        },
        "outputId": "bc98d737-619b-47ee-b158-eb741f334b54",
        "id": "VOHB8qIodMUf"
      },
      "execution_count": 69,
      "outputs": [
        {
          "output_type": "stream",
          "name": "stdout",
          "text": [
            "1.540999902793136e-05\n"
          ]
        }
      ]
    },
    {
      "cell_type": "markdown",
      "source": [
        "##Overall Findings within MoneyLine"
      ],
      "metadata": {
        "id": "BXjTnWc5Qhtz"
      }
    },
    {
      "cell_type": "markdown",
      "source": [
        "Both sites have Kansas as a pretty heavy favorite and the odds are very similar, so at this point I would definitely put money on Kansas as far as the site to choose, I would choose Betus since the vigor margin is 3.23% instead of 4.46%. Additionally, the difference in odds across sites are also nearly identical with similar variance"
      ],
      "metadata": {
        "id": "zrEgIyBAQm78"
      }
    },
    {
      "cell_type": "markdown",
      "source": [
        "## OverUnder Odds for BetUS with Vigor"
      ],
      "metadata": {
        "id": "asxZ_WUdSU8u"
      }
    },
    {
      "cell_type": "code",
      "source": [
        "odds_df[['Team_Site', 'OverUnderOdds', 'OverUnder']]"
      ],
      "metadata": {
        "colab": {
          "base_uri": "https://localhost:8080/",
          "height": 175
        },
        "id": "BOcXfS29SPPa",
        "outputId": "96961006-1820-4c4f-92f3-72cde9a427a7"
      },
      "execution_count": 42,
      "outputs": [
        {
          "output_type": "execute_result",
          "data": {
            "text/plain": [
              "                  Team_Site  OverUnderOdds OverUnder\n",
              "0      North Carolina Betus           -110      Over\n",
              "1              Kansas Betus           -110     Under\n",
              "2  North Carolina BetOnline           -105      Over\n",
              "3          Kansas BetOnline           -115     Under"
            ],
            "text/html": [
              "\n",
              "  <div id=\"df-1e054004-d162-407d-a77b-0e36b4082216\">\n",
              "    <div class=\"colab-df-container\">\n",
              "      <div>\n",
              "<style scoped>\n",
              "    .dataframe tbody tr th:only-of-type {\n",
              "        vertical-align: middle;\n",
              "    }\n",
              "\n",
              "    .dataframe tbody tr th {\n",
              "        vertical-align: top;\n",
              "    }\n",
              "\n",
              "    .dataframe thead th {\n",
              "        text-align: right;\n",
              "    }\n",
              "</style>\n",
              "<table border=\"1\" class=\"dataframe\">\n",
              "  <thead>\n",
              "    <tr style=\"text-align: right;\">\n",
              "      <th></th>\n",
              "      <th>Team_Site</th>\n",
              "      <th>OverUnderOdds</th>\n",
              "      <th>OverUnder</th>\n",
              "    </tr>\n",
              "  </thead>\n",
              "  <tbody>\n",
              "    <tr>\n",
              "      <th>0</th>\n",
              "      <td>North Carolina Betus</td>\n",
              "      <td>-110</td>\n",
              "      <td>Over</td>\n",
              "    </tr>\n",
              "    <tr>\n",
              "      <th>1</th>\n",
              "      <td>Kansas Betus</td>\n",
              "      <td>-110</td>\n",
              "      <td>Under</td>\n",
              "    </tr>\n",
              "    <tr>\n",
              "      <th>2</th>\n",
              "      <td>North Carolina BetOnline</td>\n",
              "      <td>-105</td>\n",
              "      <td>Over</td>\n",
              "    </tr>\n",
              "    <tr>\n",
              "      <th>3</th>\n",
              "      <td>Kansas BetOnline</td>\n",
              "      <td>-115</td>\n",
              "      <td>Under</td>\n",
              "    </tr>\n",
              "  </tbody>\n",
              "</table>\n",
              "</div>\n",
              "      <button class=\"colab-df-convert\" onclick=\"convertToInteractive('df-1e054004-d162-407d-a77b-0e36b4082216')\"\n",
              "              title=\"Convert this dataframe to an interactive table.\"\n",
              "              style=\"display:none;\">\n",
              "        \n",
              "  <svg xmlns=\"http://www.w3.org/2000/svg\" height=\"24px\"viewBox=\"0 0 24 24\"\n",
              "       width=\"24px\">\n",
              "    <path d=\"M0 0h24v24H0V0z\" fill=\"none\"/>\n",
              "    <path d=\"M18.56 5.44l.94 2.06.94-2.06 2.06-.94-2.06-.94-.94-2.06-.94 2.06-2.06.94zm-11 1L8.5 8.5l.94-2.06 2.06-.94-2.06-.94L8.5 2.5l-.94 2.06-2.06.94zm10 10l.94 2.06.94-2.06 2.06-.94-2.06-.94-.94-2.06-.94 2.06-2.06.94z\"/><path d=\"M17.41 7.96l-1.37-1.37c-.4-.4-.92-.59-1.43-.59-.52 0-1.04.2-1.43.59L10.3 9.45l-7.72 7.72c-.78.78-.78 2.05 0 2.83L4 21.41c.39.39.9.59 1.41.59.51 0 1.02-.2 1.41-.59l7.78-7.78 2.81-2.81c.8-.78.8-2.07 0-2.86zM5.41 20L4 18.59l7.72-7.72 1.47 1.35L5.41 20z\"/>\n",
              "  </svg>\n",
              "      </button>\n",
              "      \n",
              "  <style>\n",
              "    .colab-df-container {\n",
              "      display:flex;\n",
              "      flex-wrap:wrap;\n",
              "      gap: 12px;\n",
              "    }\n",
              "\n",
              "    .colab-df-convert {\n",
              "      background-color: #E8F0FE;\n",
              "      border: none;\n",
              "      border-radius: 50%;\n",
              "      cursor: pointer;\n",
              "      display: none;\n",
              "      fill: #1967D2;\n",
              "      height: 32px;\n",
              "      padding: 0 0 0 0;\n",
              "      width: 32px;\n",
              "    }\n",
              "\n",
              "    .colab-df-convert:hover {\n",
              "      background-color: #E2EBFA;\n",
              "      box-shadow: 0px 1px 2px rgba(60, 64, 67, 0.3), 0px 1px 3px 1px rgba(60, 64, 67, 0.15);\n",
              "      fill: #174EA6;\n",
              "    }\n",
              "\n",
              "    [theme=dark] .colab-df-convert {\n",
              "      background-color: #3B4455;\n",
              "      fill: #D2E3FC;\n",
              "    }\n",
              "\n",
              "    [theme=dark] .colab-df-convert:hover {\n",
              "      background-color: #434B5C;\n",
              "      box-shadow: 0px 1px 3px 1px rgba(0, 0, 0, 0.15);\n",
              "      filter: drop-shadow(0px 1px 2px rgba(0, 0, 0, 0.3));\n",
              "      fill: #FFFFFF;\n",
              "    }\n",
              "  </style>\n",
              "\n",
              "      <script>\n",
              "        const buttonEl =\n",
              "          document.querySelector('#df-1e054004-d162-407d-a77b-0e36b4082216 button.colab-df-convert');\n",
              "        buttonEl.style.display =\n",
              "          google.colab.kernel.accessAllowed ? 'block' : 'none';\n",
              "\n",
              "        async function convertToInteractive(key) {\n",
              "          const element = document.querySelector('#df-1e054004-d162-407d-a77b-0e36b4082216');\n",
              "          const dataTable =\n",
              "            await google.colab.kernel.invokeFunction('convertToInteractive',\n",
              "                                                     [key], {});\n",
              "          if (!dataTable) return;\n",
              "\n",
              "          const docLinkHtml = 'Like what you see? Visit the ' +\n",
              "            '<a target=\"_blank\" href=https://colab.research.google.com/notebooks/data_table.ipynb>data table notebook</a>'\n",
              "            + ' to learn more about interactive tables.';\n",
              "          element.innerHTML = '';\n",
              "          dataTable['output_type'] = 'display_data';\n",
              "          await google.colab.output.renderOutput(dataTable, element);\n",
              "          const docLink = document.createElement('div');\n",
              "          docLink.innerHTML = docLinkHtml;\n",
              "          element.appendChild(docLink);\n",
              "        }\n",
              "      </script>\n",
              "    </div>\n",
              "  </div>\n",
              "  "
            ]
          },
          "metadata": {},
          "execution_count": 42
        }
      ]
    },
    {
      "cell_type": "markdown",
      "source": [
        "On BetUs, the odds to score over 152 pts is -110, meaning you would need to bet 110 to get 100 with a return of 220 total"
      ],
      "metadata": {
        "id": "Wn8OYcARSfoz"
      }
    },
    {
      "cell_type": "code",
      "source": [
        "# Now Let's Look at Implied probability of over odds = Risk/Return for BetUs \n",
        "over_betus_ip = (110/(100+110))*100\n",
        "print(over_betus_ip)"
      ],
      "metadata": {
        "colab": {
          "base_uri": "https://localhost:8080/"
        },
        "id": "pJgIMnGVSvZB",
        "outputId": "3fd3ab56-47d0-4451-f2bb-ec00bd40bb01"
      },
      "execution_count": 43,
      "outputs": [
        {
          "output_type": "stream",
          "name": "stdout",
          "text": [
            "52.38095238095239\n"
          ]
        }
      ]
    },
    {
      "cell_type": "markdown",
      "source": [
        "On BetUs, the odds to score under 152 pts is also -110, meaning you would need to bet 110 to get 100 with a return of 220 total"
      ],
      "metadata": {
        "id": "9521GR_6WJCl"
      }
    },
    {
      "cell_type": "code",
      "source": [
        "# Now Let's Look at Implied probability of under odds = Risk/Return for BetUs \n",
        "under_betus_ip = (110/(100+110))*100\n",
        "print(under_betus_ip)"
      ],
      "metadata": {
        "colab": {
          "base_uri": "https://localhost:8080/"
        },
        "id": "r_u1nHE5UKOx",
        "outputId": "ad00a35d-2c9d-4c6c-8b8d-389107fb1eba"
      },
      "execution_count": 44,
      "outputs": [
        {
          "output_type": "stream",
          "name": "stdout",
          "text": [
            "52.38095238095239\n"
          ]
        }
      ]
    },
    {
      "cell_type": "code",
      "source": [
        "total_ou_ip_betus = over_betus_ip + under_betus_ip\n",
        "print(total_ou_ip_betus)"
      ],
      "metadata": {
        "colab": {
          "base_uri": "https://localhost:8080/"
        },
        "id": "4j5wAEqNUoNz",
        "outputId": "82db9998-8a54-47d0-a182-aae9a971b0fc"
      },
      "execution_count": 45,
      "outputs": [
        {
          "output_type": "stream",
          "name": "stdout",
          "text": [
            "104.76190476190477\n"
          ]
        }
      ]
    },
    {
      "cell_type": "markdown",
      "source": [
        "On BetUs, the total implied probability is 104.76 which means that the margin of payout for the bookkeeper is 4.76%"
      ],
      "metadata": {
        "id": "FpQOHLSYU68G"
      }
    },
    {
      "cell_type": "markdown",
      "source": [
        "##OverUnder Odds for BetOnline with Vigor"
      ],
      "metadata": {
        "id": "7yJwkeQXVcIy"
      }
    },
    {
      "cell_type": "code",
      "source": [
        "odds_df[['Team_Site', 'OverUnderOdds', 'OverUnder']]"
      ],
      "metadata": {
        "colab": {
          "base_uri": "https://localhost:8080/",
          "height": 175
        },
        "outputId": "96961006-1820-4c4f-92f3-72cde9a427a7",
        "id": "xu9YoUM0ViVk"
      },
      "execution_count": null,
      "outputs": [
        {
          "output_type": "execute_result",
          "data": {
            "text/plain": [
              "                  Team_Site  OverUnderOdds OverUnder\n",
              "0      North Carolina Betus           -110      Over\n",
              "1              Kansas Betus           -110     Under\n",
              "2  North Carolina BetOnline           -105      Over\n",
              "3          Kansas BetOnline           -115     Under"
            ],
            "text/html": [
              "\n",
              "  <div id=\"df-1e054004-d162-407d-a77b-0e36b4082216\">\n",
              "    <div class=\"colab-df-container\">\n",
              "      <div>\n",
              "<style scoped>\n",
              "    .dataframe tbody tr th:only-of-type {\n",
              "        vertical-align: middle;\n",
              "    }\n",
              "\n",
              "    .dataframe tbody tr th {\n",
              "        vertical-align: top;\n",
              "    }\n",
              "\n",
              "    .dataframe thead th {\n",
              "        text-align: right;\n",
              "    }\n",
              "</style>\n",
              "<table border=\"1\" class=\"dataframe\">\n",
              "  <thead>\n",
              "    <tr style=\"text-align: right;\">\n",
              "      <th></th>\n",
              "      <th>Team_Site</th>\n",
              "      <th>OverUnderOdds</th>\n",
              "      <th>OverUnder</th>\n",
              "    </tr>\n",
              "  </thead>\n",
              "  <tbody>\n",
              "    <tr>\n",
              "      <th>0</th>\n",
              "      <td>North Carolina Betus</td>\n",
              "      <td>-110</td>\n",
              "      <td>Over</td>\n",
              "    </tr>\n",
              "    <tr>\n",
              "      <th>1</th>\n",
              "      <td>Kansas Betus</td>\n",
              "      <td>-110</td>\n",
              "      <td>Under</td>\n",
              "    </tr>\n",
              "    <tr>\n",
              "      <th>2</th>\n",
              "      <td>North Carolina BetOnline</td>\n",
              "      <td>-105</td>\n",
              "      <td>Over</td>\n",
              "    </tr>\n",
              "    <tr>\n",
              "      <th>3</th>\n",
              "      <td>Kansas BetOnline</td>\n",
              "      <td>-115</td>\n",
              "      <td>Under</td>\n",
              "    </tr>\n",
              "  </tbody>\n",
              "</table>\n",
              "</div>\n",
              "      <button class=\"colab-df-convert\" onclick=\"convertToInteractive('df-1e054004-d162-407d-a77b-0e36b4082216')\"\n",
              "              title=\"Convert this dataframe to an interactive table.\"\n",
              "              style=\"display:none;\">\n",
              "        \n",
              "  <svg xmlns=\"http://www.w3.org/2000/svg\" height=\"24px\"viewBox=\"0 0 24 24\"\n",
              "       width=\"24px\">\n",
              "    <path d=\"M0 0h24v24H0V0z\" fill=\"none\"/>\n",
              "    <path d=\"M18.56 5.44l.94 2.06.94-2.06 2.06-.94-2.06-.94-.94-2.06-.94 2.06-2.06.94zm-11 1L8.5 8.5l.94-2.06 2.06-.94-2.06-.94L8.5 2.5l-.94 2.06-2.06.94zm10 10l.94 2.06.94-2.06 2.06-.94-2.06-.94-.94-2.06-.94 2.06-2.06.94z\"/><path d=\"M17.41 7.96l-1.37-1.37c-.4-.4-.92-.59-1.43-.59-.52 0-1.04.2-1.43.59L10.3 9.45l-7.72 7.72c-.78.78-.78 2.05 0 2.83L4 21.41c.39.39.9.59 1.41.59.51 0 1.02-.2 1.41-.59l7.78-7.78 2.81-2.81c.8-.78.8-2.07 0-2.86zM5.41 20L4 18.59l7.72-7.72 1.47 1.35L5.41 20z\"/>\n",
              "  </svg>\n",
              "      </button>\n",
              "      \n",
              "  <style>\n",
              "    .colab-df-container {\n",
              "      display:flex;\n",
              "      flex-wrap:wrap;\n",
              "      gap: 12px;\n",
              "    }\n",
              "\n",
              "    .colab-df-convert {\n",
              "      background-color: #E8F0FE;\n",
              "      border: none;\n",
              "      border-radius: 50%;\n",
              "      cursor: pointer;\n",
              "      display: none;\n",
              "      fill: #1967D2;\n",
              "      height: 32px;\n",
              "      padding: 0 0 0 0;\n",
              "      width: 32px;\n",
              "    }\n",
              "\n",
              "    .colab-df-convert:hover {\n",
              "      background-color: #E2EBFA;\n",
              "      box-shadow: 0px 1px 2px rgba(60, 64, 67, 0.3), 0px 1px 3px 1px rgba(60, 64, 67, 0.15);\n",
              "      fill: #174EA6;\n",
              "    }\n",
              "\n",
              "    [theme=dark] .colab-df-convert {\n",
              "      background-color: #3B4455;\n",
              "      fill: #D2E3FC;\n",
              "    }\n",
              "\n",
              "    [theme=dark] .colab-df-convert:hover {\n",
              "      background-color: #434B5C;\n",
              "      box-shadow: 0px 1px 3px 1px rgba(0, 0, 0, 0.15);\n",
              "      filter: drop-shadow(0px 1px 2px rgba(0, 0, 0, 0.3));\n",
              "      fill: #FFFFFF;\n",
              "    }\n",
              "  </style>\n",
              "\n",
              "      <script>\n",
              "        const buttonEl =\n",
              "          document.querySelector('#df-1e054004-d162-407d-a77b-0e36b4082216 button.colab-df-convert');\n",
              "        buttonEl.style.display =\n",
              "          google.colab.kernel.accessAllowed ? 'block' : 'none';\n",
              "\n",
              "        async function convertToInteractive(key) {\n",
              "          const element = document.querySelector('#df-1e054004-d162-407d-a77b-0e36b4082216');\n",
              "          const dataTable =\n",
              "            await google.colab.kernel.invokeFunction('convertToInteractive',\n",
              "                                                     [key], {});\n",
              "          if (!dataTable) return;\n",
              "\n",
              "          const docLinkHtml = 'Like what you see? Visit the ' +\n",
              "            '<a target=\"_blank\" href=https://colab.research.google.com/notebooks/data_table.ipynb>data table notebook</a>'\n",
              "            + ' to learn more about interactive tables.';\n",
              "          element.innerHTML = '';\n",
              "          dataTable['output_type'] = 'display_data';\n",
              "          await google.colab.output.renderOutput(dataTable, element);\n",
              "          const docLink = document.createElement('div');\n",
              "          docLink.innerHTML = docLinkHtml;\n",
              "          element.appendChild(docLink);\n",
              "        }\n",
              "      </script>\n",
              "    </div>\n",
              "  </div>\n",
              "  "
            ]
          },
          "metadata": {},
          "execution_count": 42
        }
      ]
    },
    {
      "cell_type": "markdown",
      "source": [
        "On BetOnline, the odds to score over 152 pts is -105, meaning you would need to bet 105 to get 100 with a return of 205 total"
      ],
      "metadata": {
        "id": "T7t_36mpViVk"
      }
    },
    {
      "cell_type": "code",
      "source": [
        "# Now Let's Look at Implied probability of over odds = Risk/Return for BetUs \n",
        "over_beton_ip = (105/(100+105))*100\n",
        "print(over_beton_ip)"
      ],
      "metadata": {
        "colab": {
          "base_uri": "https://localhost:8080/"
        },
        "outputId": "02506aad-cfcd-4709-990e-c3a4f27ee10b",
        "id": "VHxv136uViVl"
      },
      "execution_count": 46,
      "outputs": [
        {
          "output_type": "stream",
          "name": "stdout",
          "text": [
            "51.21951219512195\n"
          ]
        }
      ]
    },
    {
      "cell_type": "markdown",
      "source": [
        "On BetOnline, the odds to score under 152 pts is -115, meaning you would need to bet 115 to get 100 with a return of 215 total"
      ],
      "metadata": {
        "id": "bMgm1HzzVznL"
      }
    },
    {
      "cell_type": "code",
      "source": [
        "# Now Let's Look at Implied probability of under odds = Risk/Return for BetUs \n",
        "under_beton_ip = (115/(100+115))*100\n",
        "print(under_beton_ip)"
      ],
      "metadata": {
        "colab": {
          "base_uri": "https://localhost:8080/"
        },
        "outputId": "b2943800-0476-4442-89e3-9c67fcd14d63",
        "id": "bHRw2p8MViVl"
      },
      "execution_count": 47,
      "outputs": [
        {
          "output_type": "stream",
          "name": "stdout",
          "text": [
            "53.48837209302325\n"
          ]
        }
      ]
    },
    {
      "cell_type": "code",
      "source": [
        "total_ou_ip_beton = over_beton_ip + under_beton_ip\n",
        "print(total_ou_ip_beton)"
      ],
      "metadata": {
        "colab": {
          "base_uri": "https://localhost:8080/"
        },
        "outputId": "284031b7-3e35-438c-caa2-03daac18d2b8",
        "id": "-9D0GNI6ViVl"
      },
      "execution_count": 48,
      "outputs": [
        {
          "output_type": "stream",
          "name": "stdout",
          "text": [
            "104.70788428814521\n"
          ]
        }
      ]
    },
    {
      "cell_type": "markdown",
      "source": [
        "On BetUs, the total implied probability is 104.71 which means that the margin of payout for the bookkeeper is 4.71%"
      ],
      "metadata": {
        "id": "fggbLZ30ViVl"
      }
    },
    {
      "cell_type": "markdown",
      "source": [
        "##Actual OverUnder Odds without Vigor on BetUS"
      ],
      "metadata": {
        "id": "W5l9dyB5WOKc"
      }
    },
    {
      "cell_type": "code",
      "source": [
        "actual_over_betus_ip = over_betus_ip/total_ou_ip_betus\n",
        "print(actual_over_betus_ip)"
      ],
      "metadata": {
        "colab": {
          "base_uri": "https://localhost:8080/"
        },
        "id": "qQ90GQygWbFH",
        "outputId": "f6abbd17-bcc7-4d1f-d705-dbd44f765c67"
      },
      "execution_count": 49,
      "outputs": [
        {
          "output_type": "stream",
          "name": "stdout",
          "text": [
            "0.5\n"
          ]
        }
      ]
    },
    {
      "cell_type": "code",
      "source": [
        "actual_under_betus_ip = under_betus_ip/total_ou_ip_betus\n",
        "print(actual_under_betus_ip)"
      ],
      "metadata": {
        "colab": {
          "base_uri": "https://localhost:8080/"
        },
        "id": "EmN-fqdOWyAV",
        "outputId": "2ef9926e-b583-40d8-a3cc-23808acf8f44"
      },
      "execution_count": 50,
      "outputs": [
        {
          "output_type": "stream",
          "name": "stdout",
          "text": [
            "0.5\n"
          ]
        }
      ]
    },
    {
      "cell_type": "code",
      "source": [
        "actual_over_betus_ip + actual_under_betus_ip\n",
        "#Validation"
      ],
      "metadata": {
        "colab": {
          "base_uri": "https://localhost:8080/"
        },
        "id": "K8W-tR7CW4Ex",
        "outputId": "3203abe0-54d3-444c-d933-0c224c3f3d3b"
      },
      "execution_count": 51,
      "outputs": [
        {
          "output_type": "execute_result",
          "data": {
            "text/plain": [
              "1.0"
            ]
          },
          "metadata": {},
          "execution_count": 51
        }
      ]
    },
    {
      "cell_type": "markdown",
      "source": [
        "We can see that with BetUS, the actual over odds and under odds are the exact same. "
      ],
      "metadata": {
        "id": "_YWT4C9IXEDY"
      }
    },
    {
      "cell_type": "markdown",
      "source": [
        "##Actual OverUnder Odds without Vigor on BetOnline"
      ],
      "metadata": {
        "id": "rvslT1atXLzH"
      }
    },
    {
      "cell_type": "code",
      "source": [
        "actual_over_beton_ip = over_beton_ip/total_ou_ip_beton\n",
        "print(actual_over_beton_ip)"
      ],
      "metadata": {
        "colab": {
          "base_uri": "https://localhost:8080/"
        },
        "id": "Q34-m5KvXWfw",
        "outputId": "6ee1b9bf-0075-455a-d135-b0acb60f001d"
      },
      "execution_count": 52,
      "outputs": [
        {
          "output_type": "stream",
          "name": "stdout",
          "text": [
            "0.4891657638136511\n"
          ]
        }
      ]
    },
    {
      "cell_type": "code",
      "source": [
        "actual_under_beton_ip = under_beton_ip/total_ou_ip_beton\n",
        "print(actual_under_beton_ip)"
      ],
      "metadata": {
        "colab": {
          "base_uri": "https://localhost:8080/"
        },
        "id": "JWKf39dXXf4x",
        "outputId": "d1086684-27c5-4f0d-99c1-f37929f95cae"
      },
      "execution_count": 53,
      "outputs": [
        {
          "output_type": "stream",
          "name": "stdout",
          "text": [
            "0.5108342361863488\n"
          ]
        }
      ]
    },
    {
      "cell_type": "code",
      "source": [
        "actual_over_beton_ip + actual_under_beton_ip\n",
        "#Validation"
      ],
      "metadata": {
        "colab": {
          "base_uri": "https://localhost:8080/"
        },
        "id": "FzFwmGvpXo1M",
        "outputId": "12d73a4b-f8f1-44b3-d0c4-4f61a2e88ba1"
      },
      "execution_count": 54,
      "outputs": [
        {
          "output_type": "execute_result",
          "data": {
            "text/plain": [
              "1.0"
            ]
          },
          "metadata": {},
          "execution_count": 54
        }
      ]
    },
    {
      "cell_type": "markdown",
      "source": [
        "We can see that with BetOnline, the over odds are less than the under odds, so Betonline believes that the game will finish under 152 points total. "
      ],
      "metadata": {
        "id": "j92kFw9JXs0k"
      }
    },
    {
      "cell_type": "markdown",
      "source": [
        "##Calculating Variance of Actual OverUnder Odds across Sites"
      ],
      "metadata": {
        "id": "KBSHtWuce6tZ"
      }
    },
    {
      "cell_type": "code",
      "source": [
        "#Let's first calculate the difference in odds between the two sites for Over\n",
        "over_diff = abs(actual_over_betus_ip -actual_over_beton_ip)\n",
        "print(over_diff)"
      ],
      "metadata": {
        "colab": {
          "base_uri": "https://localhost:8080/"
        },
        "outputId": "a5474198-bdc3-4ac3-9c1a-573770d57fd4",
        "id": "Zku7bMbSe6te"
      },
      "execution_count": 71,
      "outputs": [
        {
          "output_type": "stream",
          "name": "stdout",
          "text": [
            "0.010834236186348878\n"
          ]
        }
      ]
    },
    {
      "cell_type": "markdown",
      "source": [
        "*There is a 1.08% difference between the over odds on the two sites"
      ],
      "metadata": {
        "id": "B_1jwvECe6te"
      }
    },
    {
      "cell_type": "code",
      "source": [
        "over_var = var((actual_over_betus_ip, actual_over_beton_ip))\n",
        "print(over_var)"
      ],
      "metadata": {
        "colab": {
          "base_uri": "https://localhost:8080/"
        },
        "outputId": "6feb8464-f453-46fe-b1e1-127c1cb44297",
        "id": "3ai9QTRKe6te"
      },
      "execution_count": 72,
      "outputs": [
        {
          "output_type": "stream",
          "name": "stdout",
          "text": [
            "2.934516843539787e-05\n"
          ]
        }
      ]
    },
    {
      "cell_type": "code",
      "source": [
        "#Let's first calculate the difference in odds between the two sites for UNC\n",
        "under_diff = abs(actual_under_betus_ip -actual_under_beton_ip)\n",
        "print(under_diff)"
      ],
      "metadata": {
        "colab": {
          "base_uri": "https://localhost:8080/"
        },
        "outputId": "c549c049-0a75-4a76-9170-017de64f42e3",
        "id": "-Mr3aznOe6te"
      },
      "execution_count": 73,
      "outputs": [
        {
          "output_type": "stream",
          "name": "stdout",
          "text": [
            "0.010834236186348822\n"
          ]
        }
      ]
    },
    {
      "cell_type": "markdown",
      "source": [
        "There is a 1.08% difference between the under odds on the two sites"
      ],
      "metadata": {
        "id": "7u5PFDIme6te"
      }
    },
    {
      "cell_type": "code",
      "source": [
        "under_var = var((actual_under_betus_ip, actual_under_beton_ip))\n",
        "print(under_var)"
      ],
      "metadata": {
        "colab": {
          "base_uri": "https://localhost:8080/"
        },
        "outputId": "578cdf29-8718-4733-fe70-26656af673fa",
        "id": "w8Zb8xKAe6te"
      },
      "execution_count": 74,
      "outputs": [
        {
          "output_type": "stream",
          "name": "stdout",
          "text": [
            "2.934516843539757e-05\n"
          ]
        }
      ]
    },
    {
      "cell_type": "markdown",
      "source": [
        "##Overall Findings within Total"
      ],
      "metadata": {
        "id": "5k3yLun_X677"
      }
    },
    {
      "cell_type": "markdown",
      "source": [
        "When examining what betting move to make in the over under category, BetUs is pretty much a coin flip as far as true odds of the game being over/under 152. Within Betonline however, I would choose to bet under 152 because the odds are a little better. Once again, the differences in odds in both over and under categories are similar across both sites and additionally thir variance is nearly identical"
      ],
      "metadata": {
        "id": "ZUP_Pgi2YFl5"
      }
    },
    {
      "cell_type": "markdown",
      "source": [
        "# Conclusions"
      ],
      "metadata": {
        "id": "NflZzn_CgUTI"
      }
    },
    {
      "cell_type": "markdown",
      "source": [
        "* Variances and differences across sites are very small\n",
        "* Kansas is the overall favorite across both sites\n",
        "* In the point spread converstion, BetOnline favors Kansas while Betus favors UNC\n",
        "* In the over under conversation, Betus doesn't favor either over or under and within BetOnline under is favored. \n"
      ],
      "metadata": {
        "id": "ZAdsuX-ngYaq"
      }
    }
  ]
}